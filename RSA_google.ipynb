{
  "nbformat": 4,
  "nbformat_minor": 0,
  "metadata": {
    "kernelspec": {
      "display_name": "Python 3",
      "language": "python",
      "name": "python3"
    },
    "language_info": {
      "codemirror_mode": {
        "name": "ipython",
        "version": 3
      },
      "file_extension": ".py",
      "mimetype": "text/x-python",
      "name": "python",
      "nbconvert_exporter": "python",
      "pygments_lexer": "ipython3",
      "version": "3.7.6"
    },
    "colab": {
      "name": "RSA (1).ipynb",
      "provenance": []
    }
  },
  "cells": [
    {
      "cell_type": "markdown",
      "metadata": {
        "id": "uiXThB9SwYpv",
        "colab_type": "text"
      },
      "source": [
        "# Algoritmo RSA"
      ]
    },
    {
      "cell_type": "markdown",
      "metadata": {
        "id": "cytJPmJPwYpw",
        "colab_type": "text"
      },
      "source": [
        "El algotirmo RSA es un algoritmo utilizado en encriptacion de mensajes de clave publica, desarrollado en 1979 por Ronald L. Rivest, Adi Shamir y Leonard Adleman. La seguridad de dicho algoritmo se basa en la factorizacion de numeros enteros principalmente numeros primos grandes muy grandes, actualmente se manejan numeros hasta de 300 digitos, por este motivo RSA brinda una buena seguridad ya que es bastante dificil descomponer estos numeros primos aleatorios a fuerza bruta, hacerlo tiene un costo de tiempo computacional demasiado alto."
      ]
    },
    {
      "cell_type": "markdown",
      "metadata": {
        "id": "tHIwCjXpwYpx",
        "colab_type": "text"
      },
      "source": [
        "El siguiente codigo es la funcion de hallar el maximo comun divisor, dicha funcion nos servira para identificar si dos numeros son cooprimos, dos numeros son cooprimos si su mcd = 1."
      ]
    },
    {
      "cell_type": "code",
      "metadata": {
        "id": "jKGCdzR9zT-P",
        "colab_type": "code",
        "colab": {}
      },
      "source": [
        "import random\n",
        "from sympy import mod_inverse"
      ],
      "execution_count": null,
      "outputs": []
    },
    {
      "cell_type": "code",
      "metadata": {
        "trusted": true,
        "id": "3Wc6ErKcwYpy",
        "colab_type": "code",
        "colab": {}
      },
      "source": [
        "#funcion para hallar el maximo comun divisor\n",
        "def mcd(a, b):\n",
        "    while b != 0:\n",
        "        a, b = b, a % b\n",
        "    return a"
      ],
      "execution_count": null,
      "outputs": []
    },
    {
      "cell_type": "markdown",
      "metadata": {
        "id": "6whWVaf4wYp3",
        "colab_type": "text"
      },
      "source": [
        "La siguiente funcion es para evaluar si un numero es primo utilizando la criba de Eratóstenes, solo que en este caso no guardaremos toda la lista de numeros primos antes del numero que se pasa en el argumento de esta funcion, si no que solo evaluaremos este numero con la operacion modulo % y si su residuo es cero este numero no sera primo."
      ]
    },
    {
      "cell_type": "code",
      "metadata": {
        "trusted": true,
        "id": "M0D-xUtNwYp4",
        "colab_type": "code",
        "colab": {}
      },
      "source": [
        "def es_Primo(num):\n",
        "    if num == 2:\n",
        "        return True\n",
        "    #aqui indicamos si el numero es menor que dos o el numero es par\n",
        "    if num < 2 or num % 2 == 0:\n",
        "        return False\n",
        "    for n in range(3, int(num ** 0.5) + 2, 2):\n",
        "        if num % n == 0:\n",
        "            return False\n",
        "    return True"
      ],
      "execution_count": null,
      "outputs": []
    },
    {
      "cell_type": "markdown",
      "metadata": {
        "id": "J7Sz8E-ZwYp8",
        "colab_type": "text"
      },
      "source": [
        "Ya teniendo las funciones de mcd y es_Primo procedemos a explicar el funcionamiento del algoritmo RSA, este algoritmo como es de llave publica cada usuario tiene dos llaves una publica y otra privada, basicamente el funcionamiento de este algoritmo trata de que al momento de enviar un mensaje, el emisor busca la llave publica del receptor y cifra dicho mensaje con esa llave, al momento que el receptor reciba dicho mensaje encriptado este lo desencriptara con su llave privada. Para realizar esto se usan conceptos de aritmetica modular y la funcion phi de euler los cuales se explicaran a continuación:"
      ]
    },
    {
      "cell_type": "markdown",
      "metadata": {
        "id": "ZX6OiLrXwYp9",
        "colab_type": "text"
      },
      "source": [
        "# 1. Generacion de llaves"
      ]
    },
    {
      "cell_type": "markdown",
      "metadata": {
        "id": "Y6Vf-2mBwYp9",
        "colab_type": "text"
      },
      "source": [
        "Para la generacion de estas llaves se escogen dos numeros primos p y q aleatorios, en la practica estos numeros tienden a ser muy grandes hasta de 300 digitos, cabe aclarar que para la muestra de este algoritmo estos numeros no se generan si no que el usuario tiene que ingresarlos, esto lo hago para ahorrar tiempo de ejecucion del programa, luego de ingresar los numeros p y q y verificar que ambos son primos con la funcion es_Primo, se procede a hallar n el cual sera el modulo a manejar para la llave privada y la llave publica, donde n = p*q, luego hallamos el valor de la funcion \\\\(\\phi\\\\) de euler, \\\\(\\phi(n)\\\\) calcula el numero de enteros positivos menores o iguales a n y que sean cooprimos con n, esta funcion nos servira para hallar la llave privada d, mas adelante se mostrara como se logra esto, luego se utiliza dos propiedades que tiene dicha funcion las cuales son las siguientes:\n",
        "\n",
        "\n"
      ]
    },
    {
      "cell_type": "markdown",
      "metadata": {
        "id": "A5KwigJ2wYp-",
        "colab_type": "text"
      },
      "source": [
        "$$\n",
        "\\text{1. } \\phi(p) =\\text{p-1 donde p es primo}\\\\ \n",
        "\\text{2. si m y n son primos entre si, entonces } \\phi(mn) = \\phi(m)\\phi(n)\n",
        "$$"
      ]
    },
    {
      "cell_type": "markdown",
      "metadata": {
        "id": "dlBu9PzQwYp_",
        "colab_type": "text"
      },
      "source": [
        "Por lo tanto \\\\(\\phi\\\\) de euler  es igual a \\\\(\\phi(n) = (p-1)*(q-1)\\\\), luego procedemos a hallar la llave publica e la cual tiene que ser un numero entero positivo menor que \\\\(\\phi(n)\\\\) y que sea cooprimo a este, si esta llave e es un numero pequeño el cifrado sera mas rapido pero mas inseguro, pero si esta e es mas grande el cifrado sera mas lento pero mas seguro."
      ]
    },
    {
      "cell_type": "markdown",
      "metadata": {
        "id": "lNQX6Wa9wYp_",
        "colab_type": "text"
      },
      "source": [
        "Luego procedemos a hallar la llave privada d, mediante aritmetica modular, donde e y d satisfagan la siguiente congruencia:  e*d \\\\(\\equiv 1 (mod \\phi(n))\\\\), en pocas palabras que d sea el multiplicador inverso de \\\\(e (mod \\phi(n))\\\\), para hallar este valor se utiliza el algoritmo de Euclides extendido."
      ]
    },
    {
      "cell_type": "markdown",
      "metadata": {
        "id": "E5bLsot5wYqA",
        "colab_type": "text"
      },
      "source": [
        "Entoces resumiendo las llaves se guardan de la siguiente forma (e,n) donde e = llave publica (exponente de cifrado) y n es el modulo y (d,n) donde d = llave privada (exponente de descifrado) y n es el modulo, todos estos valores se guardan secretamente."
      ]
    },
    {
      "cell_type": "markdown",
      "metadata": {
        "id": "LqxEqWqlwYqB",
        "colab_type": "text"
      },
      "source": [
        "Como nota cabe aclarar que el algoritmo ha mejorado en rendimiento y se utilizan otros metodos mas eficientes, como por ejemplo ya no se usa la funcion \\\\(\\phi\\\\) de euler si no la funcion de Carmichael, esta funcion no la explicare ya que el codigo implementado no hace uso de esta funcion, solo lo comento para tener en cuenta en dado caso que alguien quiera hacerle una mejora al codigo."
      ]
    },
    {
      "cell_type": "code",
      "metadata": {
        "id": "pnMFAw7MwYqB",
        "colab_type": "code",
        "colab": {}
      },
      "source": [
        "def generadorDeLlaves(p, q):\n",
        "    if not (es_Primo(p) and es_Primo(q)):\n",
        "        raise ValueError('Ambos numeros deben ser primos.')\n",
        "    elif p == q:\n",
        "        raise ValueError('p y q no deben ser iguales')\n",
        "    # n = pq\n",
        "    n = p * q\n",
        "\n",
        "    # Phi es la funcion totiente  de euler de n\n",
        "    phi = (p - 1) * (q - 1)\n",
        "\n",
        "    # Escoge un entero e tal que e y phi(n) sean cooprimos\n",
        "    e = random.randrange(1, phi)\n",
        "    print('e= ',e)\n",
        "\n",
        "\n",
        "    # usamos el algoritmo de Euclides para verificar que e y phi(n) son cooprimos\n",
        "    g = mcd(e, phi)\n",
        "    while g != 1:\n",
        "        e = random.randrange(1, phi)\n",
        "        g = mcd(e, phi)\n",
        "\n",
        "    # Usamos el algoritmo extendido de euclides para generar la llave privada\n",
        "    #usamos la libreria de sympy ya que tiene implementada la funcion de hallar el inverso modulo n\n",
        "    d= mod_inverse(e,phi)\n",
        "\n",
        "    # Retorna un par de llaves\n",
        "    # llave publica es : (e, n) y la llave privada es: (d, n)\n",
        "    return ((e, n), (d, n))"
      ],
      "execution_count": null,
      "outputs": []
    },
    {
      "cell_type": "markdown",
      "metadata": {
        "id": "n-Zz4rJ0wYqE",
        "colab_type": "text"
      },
      "source": [
        "# 2. Cifrado"
      ]
    },
    {
      "cell_type": "markdown",
      "metadata": {
        "id": "xFl6ArSqwYqF",
        "colab_type": "text"
      },
      "source": [
        "El emisor envia un mensaje y este se cifra usando la siguiente operacion de aritmetica modular \\\\(c\\equiv m^{e} (mod (n))\\\\) donde m es el mensaje y donde c va ser el mensaje ya cifrado, si nos fijamos aqui se utiliza la llave publica e y el modulo n para cifrar."
      ]
    },
    {
      "cell_type": "code",
      "metadata": {
        "id": "7AlRbCpXwYqF",
        "colab_type": "code",
        "colab": {}
      },
      "source": [
        "def encriptar(pk, textoPlano):\n",
        "\n",
        "    key, n = pk\n",
        "    #convierte cada letra in del texto plano en numeros basados de los caracteres de la tabla ASCII usando a^b mod m\n",
        "    cifrado = [(ord(char) ** key) % n for char in textoPlano]\n",
        "    #retorna un arreglo de bytes\n",
        "    return cifrado"
      ],
      "execution_count": null,
      "outputs": []
    },
    {
      "cell_type": "markdown",
      "metadata": {
        "id": "oZXmlu8lwYqJ",
        "colab_type": "text"
      },
      "source": [
        "# 3. Descifrado"
      ]
    },
    {
      "cell_type": "markdown",
      "metadata": {
        "id": "zPFPtsO5wYqK",
        "colab_type": "text"
      },
      "source": [
        "Ahora el receptor puede descifrar el mensaje enviado por el emisor, haciendo uso de su llave privada, mediante la siguiente operacion \\\\(m\\equiv c^{d} (mod (n))\\\\)"
      ]
    },
    {
      "cell_type": "markdown",
      "metadata": {
        "id": "9uPFH5QSwYqL",
        "colab_type": "text"
      },
      "source": [
        "Lo anterior funciona debido a que \\\\(c^{d}= (m^{e})^{d}\\equiv m^{ed} (mod (n))\\\\), y esto sucede debido a que seleccionamos a d y e de forma que ed = 1 +k\\\\(\\phi(n)\\\\), aplicando el teorema de euler se tiene lo siguiente: "
      ]
    },
    {
      "cell_type": "markdown",
      "metadata": {
        "id": "WUITlJASwYqL",
        "colab_type": "text"
      },
      "source": [
        "\\\\(m^{ed} = m^{1+k\\phi(n)} = m(m^{\\phi(n)})^{k}\\equiv m (mod(n)) \\\\).\n",
        "Ya con esto obtenemos el mensaje descifrado."
      ]
    },
    {
      "cell_type": "code",
      "metadata": {
        "id": "Rd034vsBwYqM",
        "colab_type": "code",
        "colab": {}
      },
      "source": [
        "def desencriptar(pk, textoCifrado):\n",
        "    key, n = pk\n",
        "    #Genera el texto plano basado en el texto cifradoo y la llave usando a^b mod m\n",
        "    plain = [chr((char ** key) % n) for char in textoCifrado]\n",
        "    #Retorna un arreglo de bytes como un string\n",
        "    return ''.join(plain)"
      ],
      "execution_count": null,
      "outputs": []
    },
    {
      "cell_type": "code",
      "metadata": {
        "id": "8awhxpCSwYqQ",
        "colab_type": "code",
        "colab": {}
      },
      "source": [
        "p = int(input(\"Ingrese un numero primo (17, 19, 23, etc): \"))\n",
        "q = int(input(\"Ingrese otro numero primo que no sea igual primer numero que ingreso:  \"))\n",
        "print (\"Espere un momento estamos generando su par de llaves publica y privada . . .\")\n",
        "publica, privada = generadorDeLlaves(p, q)\n",
        "print (\"Su llave publica es:  \", publica ,\" y su llave privada es:  \", privada)\n",
        "mensaje = input(\"Ingrese un mensaje para encriptar con su llave publica: \")\n",
        "mensajeEncriptado = encriptar(publica, mensaje)\n",
        "print (\"Su mensaje encriptado es: \")\n",
        "print (''.join(map(lambda x: str(x), mensajeEncriptado)))\n",
        "print (\"Desencriptando mensaje con la llave privada \", privada ,\" . . .\")\n",
        "print (\"Su mensaje es: \")\n",
        "print (desencriptar(privada, mensajeEncriptado))"
      ],
      "execution_count": null,
      "outputs": []
    },
    {
      "cell_type": "markdown",
      "metadata": {
        "id": "CctjzlcdwYqS",
        "colab_type": "text"
      },
      "source": [
        ""
      ]
    }
  ]
}